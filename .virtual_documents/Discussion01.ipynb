





#TODO





## TODO





#TODO





# TODO





# TODO





# TODO





#TODO





# TODO





import matplotlib.pyplot as plt
plt.xlim(-1, 1)
plt.ylim(-1, 1)
plt.grid()
colors = [
    "crimson", "teal", "gold", "indigo", "coral", 
    "limegreen", "orchid", "sienna", "dodgerblue", "plum",
    "turquoise", "magenta"
]

vector = np.array([1, 0])
angles = [0, 30, 60, 90, 120, 150, 180, 210, 240, 270, 300, 330]

# Use your previously created functions to get a list of x and y coordinates of the rotated vectors

vectors = # TODO
x_coords, y_coords = # TODO

for i, xy in enumerate(zip(x_coords, y_coords)):
    # Fill in the correct plot command to plot the xy coordinates of each
    # TODO
plt.show()
