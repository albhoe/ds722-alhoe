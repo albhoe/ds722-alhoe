





import numpy as np


x = np.array([2,2,-1])
y = np.array([2,-1,2])
dot_product = np.dot(x,y)
print (dot_product)


x_norm = np.linalg.norm(x)
y_norm = np.linalg.norm(y)
print (x_norm)
print (y_norm)


cos_theta = dot_product/(x_norm*y_norm)
theta = np.acos(cos_theta)
print(theta)
print (np.pi/2)














A = np.array([[2,-1,3,4],[1,2,-3,2],[-1,1,2,-2]])
B = np.array([[2,1,-1],[-1,2,1],[3,-3,2],[]])
C = np.array([[30,6,-5],[-1,16,-7],[-5,-9,10]])






# TODO





# TODO





# TODO





#TODO





# TODO





import matplotlib.pyplot as plt
plt.xlim(-1, 1)
plt.ylim(-1, 1)
plt.grid()
colors = [
    "crimson", "teal", "gold", "indigo", "coral", 
    "limegreen", "orchid", "sienna", "dodgerblue", "plum",
    "turquoise", "magenta"
]

vector = np.array([1, 0])
angles = [0, 30, 60, 90, 120, 150, 180, 210, 240, 270, 300, 330]

# Use your previously created functions to get a list of x and y coordinates of the rotated vectors

vectors = # TODO
x_coords, y_coords = # TODO

for i, xy in enumerate(zip(x_coords, y_coords)):
    # Fill in the correct plot command to plot the xy coordinates of each
    # TODO
plt.show()
