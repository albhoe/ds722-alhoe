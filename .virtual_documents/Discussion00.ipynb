




















#TODO
import numpy as np

def inner_product(a,b):
    flops = 0
    C = 0
    n = a.shape[0]
    for i in range(n):
        C += (a[i] * b[i])
        flops += 2
    return C, flops


# TODO


# TODO


# Tests

import numpy as np
rng = np.random.default_rng(seed=42)

x = rng.random(5)
y = rng.random(5)

print(inner_product(x,y))
inner_product_result, inner_flops = inner_product(x, y)

print(inner_flops) # Expect 9



A = rng.random((10, 5))

b, mv_flops = matrix_vector_product(A, x)

print(mv_flops) # Expect 90


B = rng.random((5, 10))

C, mm_flops = matrix_matrix_product(A, B)

print(mm_flops) # Expect 900








#TODO


C2 = matrix_matrix_columns(A, B)

np.array_equal(C, C2) # Expect True








#TODO


C3 = matrix_matrix_outer(A, B)

np.array_equal(C, C3) # Expect True





#TODO





import torch
from torch.utils.benchmark import Timer

torch.manual_seed(42)

# Benchmarking
sizes = [10, 20, 40, 80, 160, 320, 640, 1280, 2560, 5120, 10240]
times = []

if torch.cuda.is_available():
    device = torch.device("cuda")
else:
    device = torch.device("cpu")

for m in sizes:
    A = torch.rand((m, m)).to(device)
    B = torch.rand((m, m)).to(device)

    timer = Timer(
        stmt = "A @ B",
        setup = "import torch",
        globals = {"A": A, "B": B}
    )

    time = timer.timeit(number=1)
    times.append(time)
